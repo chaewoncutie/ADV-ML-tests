{
  "cells": [
    {
      "cell_type": "markdown",
      "source": [
        "## Exercise 9: Choosing the best performing model on a dataset\n",
        "\n",
        "Instructions:\n",
        "\n",
        "- Use the Dataset File to train your model\n",
        "- Use the Test File to generate your results\n",
        "- Use the Sample Submission file to generate the same format\n",
        "- Use all classification models\n",
        "\n",
        "Submit your results to:\n",
        "https://www.kaggle.com/competitions/playground-series-s4e10/overview\n",
        "\n"
      ],
      "metadata": {
        "id": "99_2rPCJrNfK"
      }
    },
    {
      "cell_type": "code",
      "execution_count": 32,
      "metadata": {
        "id": "R_se3V8gftVL"
      },
      "outputs": [],
      "source": [
        "import pandas as pd\n",
        "from sklearn.neighbors import KNeighborsClassifier\n",
        "from sklearn.linear_model import LogisticRegression\n",
        "from sklearn.svm import SVC\n",
        "from sklearn.naive_bayes import GaussianNB\n",
        "from sklearn.tree import DecisionTreeClassifier\n",
        "from sklearn.ensemble import RandomForestClassifier\n",
        "from sklearn.model_selection import train_test_split, cross_val_score\n",
        "from sklearn.preprocessing import LabelEncoder, StandardScaler\n",
        "from sklearn.metrics import accuracy_score\n",
        "from imblearn.under_sampling import RandomUnderSampler"
      ]
    },
    {
      "cell_type": "markdown",
      "metadata": {
        "id": "eCNNEXIhftVN"
      },
      "source": [
        "## Dataset File"
      ]
    },
    {
      "cell_type": "code",
      "execution_count": 33,
      "metadata": {
        "id": "-Cqj3uEkftVO"
      },
      "outputs": [],
      "source": [
        "dataset_url = 'https://github.com/robitussin/CCMACLRL_EXERCISES/blob/main/datasets/loan_approval/train.csv?raw=true'\n",
        "df = pd.read_csv(dataset_url)"
      ]
    },
    {
      "cell_type": "markdown",
      "metadata": {
        "id": "mLFiGySNftVP"
      },
      "source": [
        "## Test File"
      ]
    },
    {
      "cell_type": "code",
      "execution_count": 34,
      "metadata": {
        "id": "7pKmP53fftVP"
      },
      "outputs": [],
      "source": [
        "test_url = 'https://github.com/robitussin/CCMACLRL_EXERCISES/blob/main/datasets/loan_approval/test.csv?raw=true'\n",
        "dt=pd.read_csv(test_url)"
      ]
    },
    {
      "cell_type": "markdown",
      "metadata": {
        "id": "ntGpbsBg8hft"
      },
      "source": [
        "## Sample Submission File"
      ]
    },
    {
      "cell_type": "code",
      "execution_count": 35,
      "metadata": {
        "id": "-5Dwtw_w3U8W"
      },
      "outputs": [],
      "source": [
        "sample_submission_url ='https://github.com/robitussin/CCMACLRL_EXERCISES/blob/main/datasets/loan_approval/sample_submission.csv?raw=true'\n",
        "\n",
        "sf=pd.read_csv(sample_submission_url)"
      ]
    },
    {
      "cell_type": "code",
      "source": [
        "sf.info()"
      ],
      "metadata": {
        "colab": {
          "base_uri": "https://localhost:8080/"
        },
        "id": "K1_62qZBqLjV",
        "outputId": "4ebdf49a-cb7c-4f68-e618-6498ad1c62cd"
      },
      "execution_count": 36,
      "outputs": [
        {
          "output_type": "stream",
          "name": "stdout",
          "text": [
            "<class 'pandas.core.frame.DataFrame'>\n",
            "RangeIndex: 39098 entries, 0 to 39097\n",
            "Data columns (total 2 columns):\n",
            " #   Column       Non-Null Count  Dtype  \n",
            "---  ------       --------------  -----  \n",
            " 0   id           39098 non-null  int64  \n",
            " 1   loan_status  39098 non-null  float64\n",
            "dtypes: float64(1), int64(1)\n",
            "memory usage: 611.0 KB\n"
          ]
        }
      ]
    },
    {
      "cell_type": "code",
      "source": [
        "print(df.info())\n",
        "print(dt.info())"
      ],
      "metadata": {
        "colab": {
          "base_uri": "https://localhost:8080/"
        },
        "id": "OFQaEJ1nddrH",
        "outputId": "53eb936e-5bf5-4585-f927-a2f2f9b1d4a6"
      },
      "execution_count": 37,
      "outputs": [
        {
          "output_type": "stream",
          "name": "stdout",
          "text": [
            "<class 'pandas.core.frame.DataFrame'>\n",
            "RangeIndex: 58645 entries, 0 to 58644\n",
            "Data columns (total 13 columns):\n",
            " #   Column                      Non-Null Count  Dtype  \n",
            "---  ------                      --------------  -----  \n",
            " 0   id                          58645 non-null  int64  \n",
            " 1   person_age                  58645 non-null  int64  \n",
            " 2   person_income               58645 non-null  int64  \n",
            " 3   person_home_ownership       58645 non-null  object \n",
            " 4   person_emp_length           58645 non-null  float64\n",
            " 5   loan_intent                 58645 non-null  object \n",
            " 6   loan_grade                  58645 non-null  object \n",
            " 7   loan_amnt                   58645 non-null  int64  \n",
            " 8   loan_int_rate               58645 non-null  float64\n",
            " 9   loan_percent_income         58645 non-null  float64\n",
            " 10  cb_person_default_on_file   58645 non-null  object \n",
            " 11  cb_person_cred_hist_length  58645 non-null  int64  \n",
            " 12  loan_status                 58645 non-null  int64  \n",
            "dtypes: float64(3), int64(6), object(4)\n",
            "memory usage: 5.8+ MB\n",
            "None\n",
            "<class 'pandas.core.frame.DataFrame'>\n",
            "RangeIndex: 39098 entries, 0 to 39097\n",
            "Data columns (total 12 columns):\n",
            " #   Column                      Non-Null Count  Dtype  \n",
            "---  ------                      --------------  -----  \n",
            " 0   id                          39098 non-null  int64  \n",
            " 1   person_age                  39098 non-null  int64  \n",
            " 2   person_income               39098 non-null  int64  \n",
            " 3   person_home_ownership       39098 non-null  object \n",
            " 4   person_emp_length           39098 non-null  float64\n",
            " 5   loan_intent                 39098 non-null  object \n",
            " 6   loan_grade                  39098 non-null  object \n",
            " 7   loan_amnt                   39098 non-null  int64  \n",
            " 8   loan_int_rate               39098 non-null  float64\n",
            " 9   loan_percent_income         39098 non-null  float64\n",
            " 10  cb_person_default_on_file   39098 non-null  object \n",
            " 11  cb_person_cred_hist_length  39098 non-null  int64  \n",
            "dtypes: float64(3), int64(5), object(4)\n",
            "memory usage: 3.6+ MB\n",
            "None\n"
          ]
        }
      ]
    },
    {
      "cell_type": "code",
      "source": [
        "label_encoder = LabelEncoder()\n",
        "df['id'] = label_encoder.fit_transform(df['id'])\n",
        "\n",
        "X = df.drop(columns=['loan_status', 'id'])\n",
        "y = df['loan_status']\n",
        "X = pd.get_dummies(X, drop_first=True)\n",
        "\n",
        "# Train-test split\n",
        "X_train, X_val, y_train, y_val = train_test_split(X, y, test_size=0.2, random_state=42)\n",
        "\n",
        "# Under-sampling\n",
        "rus = RandomUnderSampler(random_state=42)\n",
        "X_resampled, y_resampled = rus.fit_resample(X_train, y_train)\n",
        "\n",
        "# Feature scaling\n",
        "scaler = StandardScaler()\n",
        "X_train_scaled = scaler.fit_transform(X_resampled)\n",
        "X_val_scaled = scaler.transform(X_val)\n",
        "\n",
        "# Prepare the test data\n",
        "if 'id' in dt.columns:\n",
        "    test_ids = dt['id'].copy()\n",
        "    dt = dt.drop(columns=['id'])\n",
        "\n",
        "dt = pd.get_dummies(dt, drop_first=True)\n",
        "dt = dt.reindex(columns=X.columns, fill_value=0)\n",
        "\n",
        "# Feature scaling for test data\n",
        "X_test_scaled = scaler.transform(dt)"
      ],
      "metadata": {
        "id": "GEUq2zEFDyK_"
      },
      "execution_count": 38,
      "outputs": []
    },
    {
      "cell_type": "markdown",
      "source": [
        "## 1. Train a KNN Classifier"
      ],
      "metadata": {
        "id": "19dHs7ZprqHd"
      }
    },
    {
      "cell_type": "code",
      "source": [
        "# put your answer here\n",
        "knn_classifier = KNeighborsClassifier(n_neighbors=22)\n",
        "knn_classifier.fit(X_train_scaled, y_resampled)\n",
        "\n",
        "y_pred_knn = knn_classifier.predict(X_val_scaled)\n",
        "\n",
        "accuracy_knn = accuracy_score(y_val, y_pred_knn)\n",
        "print(f\"Accuracy (KNN): {accuracy_knn}\")"
      ],
      "metadata": {
        "id": "sfo3q7hjru-k",
        "colab": {
          "base_uri": "https://localhost:8080/"
        },
        "outputId": "ca3bc47b-ba9f-4755-b7ab-26ba0de5b67e"
      },
      "execution_count": 39,
      "outputs": [
        {
          "output_type": "stream",
          "name": "stdout",
          "text": [
            "Accuracy (KNN): 0.8754369511467304\n"
          ]
        }
      ]
    },
    {
      "cell_type": "markdown",
      "source": [
        "- Perform cross validation"
      ],
      "metadata": {
        "id": "lqPzPhIs0zjf"
      }
    },
    {
      "cell_type": "code",
      "source": [
        "# put your answer here\n",
        "cv_scores_knn = cross_val_score(knn_classifier, X, y, cv=5)\n",
        "print(\"Cross-validation scores (KNN):\", cv_scores_knn)\n",
        "print(\"Mean cross-validation score (KNN):\", cv_scores_knn.mean())"
      ],
      "metadata": {
        "id": "Xz-BV38o04PL",
        "colab": {
          "base_uri": "https://localhost:8080/"
        },
        "outputId": "edd75d37-dcbd-481c-d6bd-f77d74202a65"
      },
      "execution_count": 40,
      "outputs": [
        {
          "output_type": "stream",
          "name": "stdout",
          "text": [
            "Cross-validation scores (KNN): [0.89342655 0.8924887  0.89359707 0.89214767 0.89206241]\n",
            "Mean cross-validation score (KNN): 0.8927444794952681\n"
          ]
        }
      ]
    },
    {
      "cell_type": "markdown",
      "source": [
        "## 2. Train a Logistic Regression Classifier"
      ],
      "metadata": {
        "id": "9iQFaBrfzNmM"
      }
    },
    {
      "cell_type": "code",
      "source": [
        "# put your answer here\n",
        "logreg = LogisticRegression(max_iter=500, solver='liblinear')\n",
        "logreg.fit(X_train_scaled, y_resampled)\n",
        "y_pred_logreg = logreg.predict(X_val_scaled)\n",
        "\n",
        "accuracy_logreg = accuracy_score(y_val, y_pred_logreg)\n",
        "print(f\"Accuracy (Logistic Regression): {accuracy_logreg}\")"
      ],
      "metadata": {
        "id": "LaiPKRnRzN3P",
        "colab": {
          "base_uri": "https://localhost:8080/"
        },
        "outputId": "ff7b9bd5-696a-483d-a8fd-30bce8d17b65"
      },
      "execution_count": 41,
      "outputs": [
        {
          "output_type": "stream",
          "name": "stdout",
          "text": [
            "Accuracy (Logistic Regression): 0.8404808594083042\n"
          ]
        }
      ]
    },
    {
      "cell_type": "markdown",
      "source": [
        "- Perform cross validation"
      ],
      "metadata": {
        "id": "sj2wlK-4044w"
      }
    },
    {
      "cell_type": "code",
      "source": [
        "# put your answer here\n",
        "cv_scores_logreg = cross_val_score(logreg, X, y, cv=5)\n",
        "print(\"Cross-validation scores (Logistic Regression):\", cv_scores_logreg)\n",
        "print(\"Mean cross-validation score (Logistic Regression):\", cv_scores_logreg.mean())"
      ],
      "metadata": {
        "id": "LaPPbhEb0740",
        "colab": {
          "base_uri": "https://localhost:8080/"
        },
        "outputId": "89555537-c1ef-4449-9e7e-b95d2bf40bdc"
      },
      "execution_count": 42,
      "outputs": [
        {
          "output_type": "stream",
          "name": "stdout",
          "text": [
            "Cross-validation scores (Logistic Regression): [0.87066246 0.87296445 0.8705772  0.87211186 0.87032143]\n",
            "Mean cross-validation score (Logistic Regression): 0.8713274788984566\n"
          ]
        }
      ]
    },
    {
      "cell_type": "markdown",
      "source": [
        "## 3. Train a Naive Bayes Classifier"
      ],
      "metadata": {
        "id": "MK7R5QHszVir"
      }
    },
    {
      "cell_type": "code",
      "source": [
        "# put your answer here\n",
        "nb_classifier = GaussianNB()\n",
        "nb_classifier.fit(X_train_scaled, y_resampled)\n",
        "y_pred_nb = nb_classifier.predict(X_val_scaled)\n",
        "\n",
        "accuracy_nb = accuracy_score(y_val, y_pred_nb)\n",
        "print(f\"Accuracy (Naive Bayes): {accuracy_nb}\")"
      ],
      "metadata": {
        "id": "wh3rW-_SzV1a",
        "colab": {
          "base_uri": "https://localhost:8080/"
        },
        "outputId": "53e12901-e2a7-49d0-f8b0-95f0ae1bf05e"
      },
      "execution_count": 43,
      "outputs": [
        {
          "output_type": "stream",
          "name": "stdout",
          "text": [
            "Accuracy (Naive Bayes): 0.8860942961889334\n"
          ]
        }
      ]
    },
    {
      "cell_type": "markdown",
      "source": [
        "- Perform cross validation"
      ],
      "metadata": {
        "id": "r1s7wlRE0-6r"
      }
    },
    {
      "cell_type": "code",
      "source": [
        "# put your answer here\n",
        "cv_scores_nb = cross_val_score(nb_classifier, X, y, cv=5)\n",
        "print(\"Cross-validation scores (Naive Bayes):\", cv_scores_nb)\n",
        "print(\"Mean cross-validation score (Naive Bayes):\", cv_scores_nb.mean())"
      ],
      "metadata": {
        "id": "Czj8xzAa0_Nt",
        "colab": {
          "base_uri": "https://localhost:8080/"
        },
        "outputId": "15f6dabb-6165-486b-c668-b9fbb5331de3"
      },
      "execution_count": 44,
      "outputs": [
        {
          "output_type": "stream",
          "name": "stdout",
          "text": [
            "Cross-validation scores (Naive Bayes): [0.87705687 0.88208713 0.87901782 0.88515645 0.88191662]\n",
            "Mean cross-validation score (Naive Bayes): 0.881046977576946\n"
          ]
        }
      ]
    },
    {
      "cell_type": "markdown",
      "source": [
        "## 4. Train a SVM Classifier"
      ],
      "metadata": {
        "id": "GlMLKDF_rvUM"
      }
    },
    {
      "cell_type": "code",
      "source": [
        "# put your answer here\n",
        "svm_classifier = SVC()\n",
        "svm_classifier.fit(X_train_scaled, y_resampled)\n",
        "y_pred_svm = svm_classifier.predict(X_val_scaled)\n",
        "\n",
        "accuracy_svm = accuracy_score(y_val, y_pred_svm)\n",
        "print(f\"Accuracy (SVM): {accuracy_svm}\")"
      ],
      "metadata": {
        "id": "0MJX8VBysFxR",
        "colab": {
          "base_uri": "https://localhost:8080/"
        },
        "outputId": "fff7fc49-6d16-409b-ed82-92bcb172b1ad"
      },
      "execution_count": 45,
      "outputs": [
        {
          "output_type": "stream",
          "name": "stdout",
          "text": [
            "Accuracy (SVM): 0.890271975445477\n"
          ]
        }
      ]
    },
    {
      "cell_type": "markdown",
      "source": [
        "- Perform cross validation"
      ],
      "metadata": {
        "id": "-wzEMe9J1DSe"
      }
    },
    {
      "cell_type": "code",
      "source": [
        "# put your answer here\n",
        "cv_scores_svm = cross_val_score(svm_classifier, X, y, cv=5)\n",
        "print(\"Cross-validation scores (SVM):\", cv_scores_svm)\n",
        "print(\"Mean cross-validation score (SVM):\", cv_scores_svm.mean())"
      ],
      "metadata": {
        "id": "dPJlm2S-1Dqe",
        "colab": {
          "base_uri": "https://localhost:8080/"
        },
        "outputId": "e401e33e-c902-4026-93b8-27a8479c3b03"
      },
      "execution_count": 46,
      "outputs": [
        {
          "output_type": "stream",
          "name": "stdout",
          "text": [
            "Cross-validation scores (SVM): [0.85761787 0.85761787 0.85761787 0.85753261 0.85761787]\n",
            "Mean cross-validation score (SVM): 0.8576008184840992\n"
          ]
        }
      ]
    },
    {
      "cell_type": "markdown",
      "source": [
        "## 5. Train a Decision Tree Classifier"
      ],
      "metadata": {
        "id": "8n-ScOLqze60"
      }
    },
    {
      "cell_type": "code",
      "source": [
        "# put your answer here\n",
        "df_classifier = DecisionTreeClassifier(max_depth=5, random_state=42)\n",
        "df_classifier.fit(X_train_scaled, y_resampled)\n",
        "y_pred_df = df_classifier.predict(X_val_scaled)\n",
        "\n",
        "accuracy_df = accuracy_score(y_val, y_pred_df)\n",
        "print(f\"Accuracy (Decision Tree): {accuracy_df}\")"
      ],
      "metadata": {
        "id": "fqLNJkoHzfL4",
        "colab": {
          "base_uri": "https://localhost:8080/"
        },
        "outputId": "5c1a0a3f-e7b9-4d05-9396-f0e4d1d7c0d4"
      },
      "execution_count": 47,
      "outputs": [
        {
          "output_type": "stream",
          "name": "stdout",
          "text": [
            "Accuracy (Decision Tree): 0.8958137948674226\n"
          ]
        }
      ]
    },
    {
      "cell_type": "markdown",
      "source": [
        "- Perform cross validation"
      ],
      "metadata": {
        "id": "5dkFpQ2j1GUO"
      }
    },
    {
      "cell_type": "code",
      "source": [
        "# put your answer here\n",
        "cv_scores_df = cross_val_score(df_classifier, X, y, cv=5)\n",
        "print(\"Cross-validation scores (Decision Tree):\", cv_scores_df)\n",
        "print(\"Mean cross-validation score (Decision Tree):\", cv_scores_df.mean())"
      ],
      "metadata": {
        "id": "hOXY4nc71Gk5",
        "colab": {
          "base_uri": "https://localhost:8080/"
        },
        "outputId": "3fa46807-41d1-4cc7-e80a-eb503e0d76f2"
      },
      "execution_count": 48,
      "outputs": [
        {
          "output_type": "stream",
          "name": "stdout",
          "text": [
            "Cross-validation scores (Decision Tree): [0.93435075 0.9381874  0.93460653 0.94100094 0.93827266]\n",
            "Mean cross-validation score (Decision Tree): 0.9372836558956432\n"
          ]
        }
      ]
    },
    {
      "cell_type": "markdown",
      "source": [
        "## 6. Train a Random Forest Classifier"
      ],
      "metadata": {
        "id": "MkJ6eVbNsBay"
      }
    },
    {
      "cell_type": "code",
      "source": [
        "# put your answer here\n",
        "rf_classifier = RandomForestClassifier(n_estimators=100, random_state=42)\n",
        "rf_classifier.fit(X_train_scaled, y_resampled)\n",
        "y_pred_rf = rf_classifier.predict(X_val_scaled)\n",
        "\n",
        "accuracy_rf = accuracy_score(y_val, y_pred_rf)\n",
        "print(f\"Accuracy (Random Forest): {accuracy_rf}\")"
      ],
      "metadata": {
        "id": "w_LoDOYHsGo2",
        "colab": {
          "base_uri": "https://localhost:8080/"
        },
        "outputId": "195b6cf9-2f61-4221-b14f-578b74b32503"
      },
      "execution_count": 49,
      "outputs": [
        {
          "output_type": "stream",
          "name": "stdout",
          "text": [
            "Accuracy (Random Forest): 0.904595447182198\n"
          ]
        }
      ]
    },
    {
      "cell_type": "code",
      "source": [
        "# Cross-validation\n",
        "cv_scores_rf = cross_val_score(rf_classifier, X, y, cv=5)\n",
        "print(\"Cross-validation scores (Random Forest):\", cv_scores_rf)\n",
        "print(\"Mean cross-validation score (Random Forest):\", cv_scores_rf.mean())"
      ],
      "metadata": {
        "colab": {
          "base_uri": "https://localhost:8080/"
        },
        "id": "wEQBrA8V7c7X",
        "outputId": "4cefb358-b840-4ff6-8aa8-856e81b7e629"
      },
      "execution_count": 50,
      "outputs": [
        {
          "output_type": "stream",
          "name": "stdout",
          "text": [
            "Cross-validation scores (Random Forest): [0.9479069  0.94986785 0.94918578 0.95344872 0.95097621]\n",
            "Mean cross-validation score (Random Forest): 0.9502770909710974\n"
          ]
        }
      ]
    },
    {
      "cell_type": "markdown",
      "source": [
        "## 7. Compare all the performance of all classification models"
      ],
      "metadata": {
        "id": "3orhk-Vf0Jg-"
      }
    },
    {
      "cell_type": "code",
      "source": [
        "# put your answer here\n",
        "results = {\n",
        "    'KNN': {'Accuracy': accuracy_knn, 'CV Score': cv_scores_knn.mean()},\n",
        "    'Logistic Regression': {'Accuracy': accuracy_logreg, 'CV Score': cv_scores_logreg.mean()},\n",
        "    'Naive Bayes': {'Accuracy': accuracy_nb, 'CV Score': cv_scores_nb.mean()},\n",
        "    'SVM': {'Accuracy': accuracy_svm, 'CV Score': cv_scores_svm.mean()},\n",
        "    'Decision Tree': {'Accuracy': accuracy_df, 'CV Score': cv_scores_df.mean()},\n",
        "    'Random Forest': {'Accuracy': accuracy_rf, 'CV Score': cv_scores_rf.mean()}\n",
        "}\n",
        "\n",
        "# Print the results\n",
        "for model_name, metrics in results.items():\n",
        "    print(f\"{model_name}: Accuracy = {metrics['Accuracy']:.4f}, CV Score = {metrics['CV Score']:.4f}\")\n",
        "\n",
        "# Choose the best performing model based on accuracy\n",
        "best_model = max(results.items(), key=lambda x: x[1]['Accuracy'])\n",
        "print(f\"Best Model: {best_model[0]} with Accuracy: {best_model[1]['Accuracy']:.4f}\")"
      ],
      "metadata": {
        "id": "r5FUkgck0VY8",
        "colab": {
          "base_uri": "https://localhost:8080/"
        },
        "outputId": "6ce775ea-8e3e-4f16-a5ef-f4bf48ebc904"
      },
      "execution_count": 52,
      "outputs": [
        {
          "output_type": "stream",
          "name": "stdout",
          "text": [
            "KNN: Accuracy = 0.8754, CV Score = 0.8927\n",
            "Logistic Regression: Accuracy = 0.8405, CV Score = 0.8713\n",
            "Naive Bayes: Accuracy = 0.8861, CV Score = 0.8810\n",
            "SVM: Accuracy = 0.8903, CV Score = 0.8576\n",
            "Decision Tree: Accuracy = 0.8958, CV Score = 0.9373\n",
            "Random Forest: Accuracy = 0.9046, CV Score = 0.9503\n",
            "Best Model: Random Forest with Accuracy: 0.9046\n"
          ]
        }
      ]
    },
    {
      "cell_type": "markdown",
      "source": [
        "## 9. Generate Submission File\n",
        "\n",
        "Choose the model that has the best performance to generate a submission file."
      ],
      "metadata": {
        "id": "a6UAAMyepmHi"
      }
    },
    {
      "cell_type": "code",
      "source": [
        "submission_df = pd.DataFrame({\n",
        "    'id': test_ids,\n",
        "    'loan_status': rf_classifier.predict(X_test_scaled)\n",
        "})\n",
        "\n",
        "submission_df = submission_df.sort_values(by='id').reset_index(drop=True)\n",
        "submission_df.to_csv('submission_file.csv', index=False)\n",
        "print(\"Submission file created: submission_file.csv\")"
      ],
      "metadata": {
        "id": "HrelEEFJpjzI",
        "colab": {
          "base_uri": "https://localhost:8080/"
        },
        "outputId": "d008d222-5115-44b3-f30d-b24d7d9be758"
      },
      "execution_count": 58,
      "outputs": [
        {
          "output_type": "stream",
          "name": "stdout",
          "text": [
            "Submission file created: submission_file.csv\n"
          ]
        }
      ]
    }
  ],
  "metadata": {
    "colab": {
      "provenance": []
    },
    "kernelspec": {
      "display_name": "Python 3",
      "name": "python3"
    },
    "language_info": {
      "name": "python",
      "version": "3.12.4"
    }
  },
  "nbformat": 4,
  "nbformat_minor": 0
}